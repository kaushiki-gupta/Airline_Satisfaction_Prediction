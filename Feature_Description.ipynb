{
 "cells": [
  {
   "cell_type": "code",
   "execution_count": null,
   "metadata": {
    "id": "yuuQW7v1E1Fz"
   },
   "outputs": [],
   "source": [
    "##### Feature_Description\n",
    "\n",
    "# Gender: Gender of the passengers (Female, Male)\n",
    "# Customer Type: The customer type (Loyal customer, disloyal customer)\n",
    "# Age: The actual age of the passengers\n",
    "# Type of Travel: Purpose of the flight of the passengers (Personal Travel, Business Travel)\n",
    "# Class: Travel class in the plane of the passengers (Business, Eco, Eco Plus)\n",
    "# Flight distance: The flight distance of this journey\n",
    "# Inflight wifi service: Satisfaction level of the inflight wifi service (0:Not Applicable;1-5)\n",
    "# Departure/Arrival time convenient: Satisfaction level of Departure/Arrival time convenient\n",
    "# Ease of Online booking: Satisfaction level of online booking\n",
    "# Gate location: Satisfaction level of Gate location\n",
    "# Food and drink: Satisfaction level of Food and drink\n",
    "# Online boarding: Satisfaction level of online boarding\n",
    "# Seat comfort: Satisfaction level of Seat comfort\n",
    "# Inflight entertainment: Satisfaction level of inflight entertainment\n",
    "# On-board service: Satisfaction level of On-board service\n",
    "# Leg room service: Satisfaction level of Leg room service\n",
    "# Baggage handling: Satisfaction level of baggage handling\n",
    "# Check-in service: Satisfaction level of Check-in service\n",
    "# Inflight service: Satisfaction level of inflight service\n",
    "# Cleanliness: Satisfaction level of Cleanliness\n",
    "# Departure Delay in Minutes: Minutes delayed when departure\n",
    "# Arrival Delay in Minutes: Minutes delayed when Arrival\n",
    "# Satisfaction: Airline satisfaction level(Satisfaction, neutral or dissatisfaction) - Target Variable\n",
    "    "
   ]
  }
 ],
 "metadata": {
  "colab": {
   "authorship_tag": "ABX9TyNUkif67cSDjKjTecCNMoaa",
   "provenance": []
  },
  "kernelspec": {
   "display_name": "Python 3 (ipykernel)",
   "language": "python",
   "name": "python3"
  },
  "language_info": {
   "codemirror_mode": {
    "name": "ipython",
    "version": 3
   },
   "file_extension": ".py",
   "mimetype": "text/x-python",
   "name": "python",
   "nbconvert_exporter": "python",
   "pygments_lexer": "ipython3",
   "version": "3.9.13"
  }
 },
 "nbformat": 4,
 "nbformat_minor": 1
}
